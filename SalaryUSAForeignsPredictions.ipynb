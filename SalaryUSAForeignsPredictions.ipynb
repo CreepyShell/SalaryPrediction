{
 "cells": [
  {
   "cell_type": "markdown",
   "id": "715b87ea",
   "metadata": {},
   "source": [
    "# Data loading"
   ]
  },
  {
   "cell_type": "code",
   "execution_count": 16,
   "id": "d1010f66",
   "metadata": {
    "scrolled": true
   },
   "outputs": [
    {
     "name": "stdout",
     "output_type": "stream",
     "text": [
      "          CASE_NUMBER CASE_STATUS CASE_RECEIVED_DATE DECISION_DATE  \\\n",
      "0  I-200-14073-248840      denied          3/14/2014     3/21/2014   \n",
      "1       A-15061-55212      denied          3/19/2015     3/19/2015   \n",
      "2  I-200-13256-001092      denied          9/13/2013     9/23/2013   \n",
      "3  I-200-14087-353657      denied          3/28/2014      4/7/2014   \n",
      "4  I-203-14259-128844      denied          9/16/2014     9/23/2014   \n",
      "\n",
      "                                       EMPLOYER_NAME  \\\n",
      "0                ADVANCED TECHNOLOGY GROUP USA, INC.   \n",
      "1                     SAN FRANCISCO STATE UNIVERSITY   \n",
      "2                                    CAROUSEL SCHOOL   \n",
      "3  HARLINGEN CONSOLIDATED INDEPENDENT SCHOOL DIST...   \n",
      "4                        SIGNAL SCIENCES CORPORATION   \n",
      "\n",
      "   PREVAILING_WAGE_SUBMITTED PREVAILING_WAGE_SUBMITTED_UNIT  \\\n",
      "0                  6217100.0                           year   \n",
      "1                  5067600.0                           year   \n",
      "2                  4947000.0                           year   \n",
      "3                   251052.0                          month   \n",
      "4                    84573.0                      bi-weekly   \n",
      "\n",
      "   PAID_WAGE_SUBMITTED PAID_WAGE_SUBMITTED_UNIT  \\\n",
      "0              62171.0                     year   \n",
      "1              91440.0                     year   \n",
      "2              49470.0                     year   \n",
      "3              43800.0                     year   \n",
      "4             170000.0                     year   \n",
      "\n",
      "                          JOB_TITLE  ... PREVAILING_WAGE_SOC_CODE  \\\n",
      "0                 SOFTWARE ENGINEER  ...                  15-1132   \n",
      "1  Assistant Professor of Marketing  ...                  25-1011   \n",
      "2         SPECIAL EDUCATION TEACHER  ...                  25-2052   \n",
      "3                   SCIENCE TEACHER  ...                  25-1042   \n",
      "4          SENIOR SOFTWARE ENGINEER  ...                  15-1133   \n",
      "\n",
      "                           PREVAILING_WAGE_SOC_TITLE  WORK_STATE  \\\n",
      "0                  Software Developers, Applications          IL   \n",
      "1                   Business Teachers, Postsecondary  CALIFORNIA   \n",
      "2  Special Education Teachers, Kindergarten and E...          CA   \n",
      "3         Biological Science Teachers, Postsecondary          TX   \n",
      "4              Software Developers, Systems Software          OR   \n",
      "\n",
      "  WORK_POSTAL_CODE  FULL_TIME_POSITION_Y_N      VISA_CLASS  \\\n",
      "0              NaN                       y            H-1B   \n",
      "1          94132.0                     NaN       greencard   \n",
      "2              NaN                       y            H-1B   \n",
      "3              NaN                       y            H-1B   \n",
      "4              NaN                       y  E-3 Australian   \n",
      "\n",
      "  PREVAILING_WAGE_PER_YEAR PAID_WAGE_PER_YEAR   JOB_TITLE_SUBGROUP order  \n",
      "0                      NaN            62171.0    software engineer     1  \n",
      "1                      NaN            91440.0  assistant professor     2  \n",
      "2                      NaN            49470.0              teacher     3  \n",
      "3                      NaN            43800.0              teacher     4  \n",
      "4                      NaN           170000.0    software engineer     5  \n",
      "\n",
      "[5 rows x 26 columns]\n"
     ]
    }
   ],
   "source": [
    "import pandas as pd\n",
    "#df = pd.read_excel('./archive/USAforeignworkerssalarydata-1556559586172.xlsx')\n",
    "df=pd.read_csv('cleaned.csv', sep='\\t', encoding='utf-8')\n",
    "df=df.head(5)\n",
    "print(df)\n",
    "#df.to_csv('cleaned.csv', index=False, sep='\\t', encoding='utf-8')"
   ]
  },
  {
   "cell_type": "code",
   "execution_count": null,
   "id": "355ac4c2",
   "metadata": {},
   "outputs": [],
   "source": []
  }
 ],
 "metadata": {
  "kernelspec": {
   "display_name": "Python 3 (ipykernel)",
   "language": "python",
   "name": "python3"
  },
  "language_info": {
   "codemirror_mode": {
    "name": "ipython",
    "version": 3
   },
   "file_extension": ".py",
   "mimetype": "text/x-python",
   "name": "python",
   "nbconvert_exporter": "python",
   "pygments_lexer": "ipython3",
   "version": "3.10.9"
  }
 },
 "nbformat": 4,
 "nbformat_minor": 5
}
