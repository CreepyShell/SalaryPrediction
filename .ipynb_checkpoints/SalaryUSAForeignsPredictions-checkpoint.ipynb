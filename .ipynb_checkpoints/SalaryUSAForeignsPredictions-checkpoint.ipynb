{
 "cells": [
  {
   "cell_type": "markdown",
   "id": "715b87ea",
   "metadata": {},
   "source": [
    "# Data loading"
   ]
  },
  {
   "cell_type": "raw",
   "id": "6c3b8bda",
   "metadata": {},
   "source": [
    "Sorce: https://www.kaggle.com/datasets/sujan97/usa-foreign-workers-salary/data"
   ]
  },
  {
   "cell_type": "code",
   "execution_count": 41,
   "id": "d1010f66",
   "metadata": {
    "scrolled": true
   },
   "outputs": [
    {
     "name": "stdout",
     "output_type": "stream",
     "text": [
      "              CASE_NUMBER CASE_STATUS CASE_RECEIVED_DATE DECISION_DATE  \\\n",
      "0      I-200-14073-248840      denied          3/14/2014     3/21/2014   \n",
      "1           A-15061-55212      denied          3/19/2015     3/19/2015   \n",
      "2      I-200-13256-001092      denied          9/13/2013     9/23/2013   \n",
      "3      I-200-14087-353657      denied          3/28/2014      4/7/2014   \n",
      "4      I-203-14259-128844      denied          9/16/2014     9/23/2014   \n",
      "...                   ...         ...                ...           ...   \n",
      "29995  I-200-14300-188379   certified         10/27/2014    10/31/2014   \n",
      "29996  I-200-14104-603902   certified          4/23/2014     4/29/2014   \n",
      "29997  I-200-14107-908610   certified          4/30/2014      5/6/2014   \n",
      "29998  I-200-14116-804709   certified          4/30/2014      5/6/2014   \n",
      "29999  I-200-14117-541005   certified           5/5/2014      5/9/2014   \n",
      "\n",
      "                                           EMPLOYER_NAME  \\\n",
      "0                    ADVANCED TECHNOLOGY GROUP USA, INC.   \n",
      "1                         SAN FRANCISCO STATE UNIVERSITY   \n",
      "2                                        CAROUSEL SCHOOL   \n",
      "3      HARLINGEN CONSOLIDATED INDEPENDENT SCHOOL DIST...   \n",
      "4                            SIGNAL SCIENCES CORPORATION   \n",
      "...                                                  ...   \n",
      "29995               SANEF ITS TECHNOLOGIES AMERICA, INC.   \n",
      "29996                                  INTEL CORPORATION   \n",
      "29997                                  INTEL CORPORATION   \n",
      "29998                                  INTEL CORPORATION   \n",
      "29999                                  INTEL CORPORATION   \n",
      "\n",
      "       PREVAILING_WAGE_SUBMITTED PREVAILING_WAGE_SUBMITTED_UNIT  \\\n",
      "0                      6217100.0                           year   \n",
      "1                      5067600.0                           year   \n",
      "2                      4947000.0                           year   \n",
      "3                       251052.0                          month   \n",
      "4                        84573.0                      bi-weekly   \n",
      "...                          ...                            ...   \n",
      "29995                    98301.0                           year   \n",
      "29996                    98285.0                           year   \n",
      "29997                    98285.0                           year   \n",
      "29998                    98285.0                           year   \n",
      "29999                    98285.0                           year   \n",
      "\n",
      "       PAID_WAGE_SUBMITTED PAID_WAGE_SUBMITTED_UNIT  \\\n",
      "0                  62171.0                     year   \n",
      "1                  91440.0                     year   \n",
      "2                  49470.0                     year   \n",
      "3                  43800.0                     year   \n",
      "4                 170000.0                     year   \n",
      "...                    ...                      ...   \n",
      "29995              98301.0                     year   \n",
      "29996              98285.0                     year   \n",
      "29997              98285.0                     year   \n",
      "29998              98285.0                     year   \n",
      "29999              98285.0                     year   \n",
      "\n",
      "                              JOB_TITLE  ... PREVAILING_WAGE_SOC_CODE  \\\n",
      "0                     SOFTWARE ENGINEER  ...                  15-1132   \n",
      "1      Assistant Professor of Marketing  ...                  25-1011   \n",
      "2             SPECIAL EDUCATION TEACHER  ...                  25-2052   \n",
      "3                       SCIENCE TEACHER  ...                  25-1042   \n",
      "4              SENIOR SOFTWARE ENGINEER  ...                  15-1133   \n",
      "...                                 ...  ...                      ...   \n",
      "29995                  BUSINESS ANALYST  ...                  15-1121   \n",
      "29996                 SOFTWARE ENGINEER  ...                  15-1133   \n",
      "29997                 SOFTWARE ENGINEER  ...                  15-1133   \n",
      "29998                 SOFTWARE ENGINEER  ...                  15-1133   \n",
      "29999                 SOFTWARE ENGINEER  ...                  15-1133   \n",
      "\n",
      "                               PREVAILING_WAGE_SOC_TITLE  WORK_STATE  \\\n",
      "0                      Software Developers, Applications          IL   \n",
      "1                       Business Teachers, Postsecondary  CALIFORNIA   \n",
      "2      Special Education Teachers, Kindergarten and E...          CA   \n",
      "3             Biological Science Teachers, Postsecondary          TX   \n",
      "4                  Software Developers, Systems Software          OR   \n",
      "...                                                  ...         ...   \n",
      "29995                          COMPUTER SYSTEMS ANALYSTS          NY   \n",
      "29996              Software Developers, Systems Software          CA   \n",
      "29997              Software Developers, Systems Software          CA   \n",
      "29998              Software Developers, Systems Software          CA   \n",
      "29999              Software Developers, Systems Software          CA   \n",
      "\n",
      "      WORK_POSTAL_CODE  FULL_TIME_POSITION_Y_N      VISA_CLASS  \\\n",
      "0                  NaN                       y            H-1B   \n",
      "1              94132.0                     NaN       greencard   \n",
      "2                  NaN                       y            H-1B   \n",
      "3                  NaN                       y            H-1B   \n",
      "4                  NaN                       y  E-3 Australian   \n",
      "...                ...                     ...             ...   \n",
      "29995            11050                       y            H-1B   \n",
      "29996              NaN                       y            H-1B   \n",
      "29997              NaN                       y            H-1B   \n",
      "29998              NaN                       y            H-1B   \n",
      "29999              NaN                       y            H-1B   \n",
      "\n",
      "      PREVAILING_WAGE_PER_YEAR PAID_WAGE_PER_YEAR   JOB_TITLE_SUBGROUP  order  \n",
      "0                          NaN            62171.0    software engineer      1  \n",
      "1                          NaN            91440.0  assistant professor      2  \n",
      "2                          NaN            49470.0              teacher      3  \n",
      "3                          NaN            43800.0              teacher      4  \n",
      "4                          NaN           170000.0    software engineer      5  \n",
      "...                        ...                ...                  ...    ...  \n",
      "29995                  98301.0            98301.0     business analyst  30059  \n",
      "29996                  98285.0            98285.0    software engineer  30060  \n",
      "29997                  98285.0            98285.0    software engineer  30061  \n",
      "29998                  98285.0            98285.0    software engineer  30062  \n",
      "29999                  98285.0            98285.0    software engineer  30063  \n",
      "\n",
      "[30000 rows x 26 columns]\n"
     ]
    }
   ],
   "source": [
    "import pandas as pd\n",
    "import matplotlib.pyplot as plt\n",
    "import seaborn as sns\n",
    "\n",
    "#df = pd.read_excel('./USAforeignworkerssalarydata-1556559586172.xlsx')\n",
    "df=pd.read_csv('cleaned.csv', sep='\\t', encoding='utf-8')\n",
    "#df=df.head(30000)\n",
    "print(df)\n",
    "#df.to_csv('cleaned.csv', index=False, sep='\\t', encoding='utf-8')"
   ]
  },
  {
   "cell_type": "markdown",
   "id": "4fd179e8",
   "metadata": {},
   "source": [
    "# Data Understanding"
   ]
  },
  {
   "cell_type": "code",
   "execution_count": 32,
   "id": "ace0a02d",
   "metadata": {},
   "outputs": [
    {
     "name": "stdout",
     "output_type": "stream",
     "text": [
      "<class 'pandas.core.frame.DataFrame'>\n",
      "RangeIndex: 30000 entries, 0 to 29999\n",
      "Data columns (total 26 columns):\n",
      " #   Column                          Non-Null Count  Dtype  \n",
      "---  ------                          --------------  -----  \n",
      " 0   CASE_NUMBER                     30000 non-null  object \n",
      " 1   CASE_STATUS                     30000 non-null  object \n",
      " 2   CASE_RECEIVED_DATE              30000 non-null  object \n",
      " 3   DECISION_DATE                   30000 non-null  object \n",
      " 4   EMPLOYER_NAME                   30000 non-null  object \n",
      " 5   PREVAILING_WAGE_SUBMITTED       30000 non-null  float64\n",
      " 6   PREVAILING_WAGE_SUBMITTED_UNIT  30000 non-null  object \n",
      " 7   PAID_WAGE_SUBMITTED             30000 non-null  float64\n",
      " 8   PAID_WAGE_SUBMITTED_UNIT        30000 non-null  object \n",
      " 9   JOB_TITLE                       30000 non-null  object \n",
      " 10  WORK_CITY                       29999 non-null  object \n",
      " 11  EDUCATION_LEVEL_REQUIRED        4236 non-null   object \n",
      " 12  COLLEGE_MAJOR_REQUIRED          4219 non-null   object \n",
      " 13  EXPERIENCE_REQUIRED_Y_N         4236 non-null   object \n",
      " 14  EXPERIENCE_REQUIRED_NUM_MONTHS  2433 non-null   float64\n",
      " 15  COUNTRY_OF_CITIZENSHIP          4236 non-null   object \n",
      " 16  PREVAILING_WAGE_SOC_CODE        30000 non-null  object \n",
      " 17  PREVAILING_WAGE_SOC_TITLE       30000 non-null  object \n",
      " 18  WORK_STATE                      30000 non-null  object \n",
      " 19  WORK_POSTAL_CODE                11771 non-null  object \n",
      " 20  FULL_TIME_POSITION_Y_N          25764 non-null  object \n",
      " 21  VISA_CLASS                      30000 non-null  object \n",
      " 22  PREVAILING_WAGE_PER_YEAR        29932 non-null  float64\n",
      " 23  PAID_WAGE_PER_YEAR              30000 non-null  float64\n",
      " 24  JOB_TITLE_SUBGROUP              30000 non-null  object \n",
      " 25  order                           30000 non-null  int64  \n",
      "dtypes: float64(5), int64(1), object(20)\n",
      "memory usage: 6.0+ MB\n"
     ]
    }
   ],
   "source": [
    "df.info()"
   ]
  },
  {
   "cell_type": "code",
   "execution_count": 33,
   "id": "318bf525",
   "metadata": {},
   "outputs": [
    {
     "data": {
      "text/plain": [
       "Index(['CASE_NUMBER', 'CASE_STATUS', 'CASE_RECEIVED_DATE', 'DECISION_DATE',\n",
       "       'EMPLOYER_NAME', 'PREVAILING_WAGE_SUBMITTED',\n",
       "       'PREVAILING_WAGE_SUBMITTED_UNIT', 'PAID_WAGE_SUBMITTED',\n",
       "       'PAID_WAGE_SUBMITTED_UNIT', 'JOB_TITLE', 'WORK_CITY',\n",
       "       'EDUCATION_LEVEL_REQUIRED', 'COLLEGE_MAJOR_REQUIRED',\n",
       "       'EXPERIENCE_REQUIRED_Y_N', 'EXPERIENCE_REQUIRED_NUM_MONTHS',\n",
       "       'COUNTRY_OF_CITIZENSHIP', 'PREVAILING_WAGE_SOC_CODE',\n",
       "       'PREVAILING_WAGE_SOC_TITLE', 'WORK_STATE', 'WORK_POSTAL_CODE',\n",
       "       'FULL_TIME_POSITION_Y_N', 'VISA_CLASS', 'PREVAILING_WAGE_PER_YEAR',\n",
       "       'PAID_WAGE_PER_YEAR', 'JOB_TITLE_SUBGROUP', 'order'],\n",
       "      dtype='object')"
      ]
     },
     "execution_count": 33,
     "metadata": {},
     "output_type": "execute_result"
    }
   ],
   "source": [
    "df.columns"
   ]
  },
  {
   "cell_type": "code",
   "execution_count": 34,
   "id": "9099b5ec",
   "metadata": {},
   "outputs": [
    {
     "data": {
      "text/html": [
       "<div>\n",
       "<style scoped>\n",
       "    .dataframe tbody tr th:only-of-type {\n",
       "        vertical-align: middle;\n",
       "    }\n",
       "\n",
       "    .dataframe tbody tr th {\n",
       "        vertical-align: top;\n",
       "    }\n",
       "\n",
       "    .dataframe thead th {\n",
       "        text-align: right;\n",
       "    }\n",
       "</style>\n",
       "<table border=\"1\" class=\"dataframe\">\n",
       "  <thead>\n",
       "    <tr style=\"text-align: right;\">\n",
       "      <th></th>\n",
       "      <th>PREVAILING_WAGE_SUBMITTED</th>\n",
       "      <th>PAID_WAGE_SUBMITTED</th>\n",
       "      <th>EXPERIENCE_REQUIRED_NUM_MONTHS</th>\n",
       "      <th>PREVAILING_WAGE_PER_YEAR</th>\n",
       "      <th>PAID_WAGE_PER_YEAR</th>\n",
       "      <th>order</th>\n",
       "    </tr>\n",
       "  </thead>\n",
       "  <tbody>\n",
       "    <tr>\n",
       "      <th>count</th>\n",
       "      <td>3.000000e+04</td>\n",
       "      <td>3.000000e+04</td>\n",
       "      <td>2433.000000</td>\n",
       "      <td>29932.000000</td>\n",
       "      <td>3.000000e+04</td>\n",
       "      <td>30000.000000</td>\n",
       "    </tr>\n",
       "    <tr>\n",
       "      <th>mean</th>\n",
       "      <td>1.130043e+05</td>\n",
       "      <td>1.249799e+05</td>\n",
       "      <td>45.000000</td>\n",
       "      <td>114564.863916</td>\n",
       "      <td>1.280650e+05</td>\n",
       "      <td>15045.833600</td>\n",
       "    </tr>\n",
       "    <tr>\n",
       "      <th>std</th>\n",
       "      <td>6.225404e+04</td>\n",
       "      <td>4.758604e+04</td>\n",
       "      <td>21.805981</td>\n",
       "      <td>16100.139245</td>\n",
       "      <td>4.483994e+04</td>\n",
       "      <td>8677.158635</td>\n",
       "    </tr>\n",
       "    <tr>\n",
       "      <th>min</th>\n",
       "      <td>4.729000e+01</td>\n",
       "      <td>4.500000e+01</td>\n",
       "      <td>0.000000</td>\n",
       "      <td>98285.000000</td>\n",
       "      <td>2.850000e+04</td>\n",
       "      <td>1.000000</td>\n",
       "    </tr>\n",
       "    <tr>\n",
       "      <th>25%</th>\n",
       "      <td>1.018160e+05</td>\n",
       "      <td>1.091380e+05</td>\n",
       "      <td>24.000000</td>\n",
       "      <td>102614.000000</td>\n",
       "      <td>1.097620e+05</td>\n",
       "      <td>7531.750000</td>\n",
       "    </tr>\n",
       "    <tr>\n",
       "      <th>50%</th>\n",
       "      <td>1.100940e+05</td>\n",
       "      <td>1.200000e+05</td>\n",
       "      <td>60.000000</td>\n",
       "      <td>110155.000000</td>\n",
       "      <td>1.200000e+05</td>\n",
       "      <td>15055.500000</td>\n",
       "    </tr>\n",
       "    <tr>\n",
       "      <th>75%</th>\n",
       "      <td>1.210878e+05</td>\n",
       "      <td>1.350000e+05</td>\n",
       "      <td>60.000000</td>\n",
       "      <td>121186.000000</td>\n",
       "      <td>1.350000e+05</td>\n",
       "      <td>22561.250000</td>\n",
       "    </tr>\n",
       "    <tr>\n",
       "      <th>max</th>\n",
       "      <td>6.217100e+06</td>\n",
       "      <td>2.500000e+06</td>\n",
       "      <td>120.000000</td>\n",
       "      <td>320000.000000</td>\n",
       "      <td>2.500000e+06</td>\n",
       "      <td>30063.000000</td>\n",
       "    </tr>\n",
       "  </tbody>\n",
       "</table>\n",
       "</div>"
      ],
      "text/plain": [
       "       PREVAILING_WAGE_SUBMITTED  PAID_WAGE_SUBMITTED  \\\n",
       "count               3.000000e+04         3.000000e+04   \n",
       "mean                1.130043e+05         1.249799e+05   \n",
       "std                 6.225404e+04         4.758604e+04   \n",
       "min                 4.729000e+01         4.500000e+01   \n",
       "25%                 1.018160e+05         1.091380e+05   \n",
       "50%                 1.100940e+05         1.200000e+05   \n",
       "75%                 1.210878e+05         1.350000e+05   \n",
       "max                 6.217100e+06         2.500000e+06   \n",
       "\n",
       "       EXPERIENCE_REQUIRED_NUM_MONTHS  PREVAILING_WAGE_PER_YEAR  \\\n",
       "count                     2433.000000              29932.000000   \n",
       "mean                        45.000000             114564.863916   \n",
       "std                         21.805981              16100.139245   \n",
       "min                          0.000000              98285.000000   \n",
       "25%                         24.000000             102614.000000   \n",
       "50%                         60.000000             110155.000000   \n",
       "75%                         60.000000             121186.000000   \n",
       "max                        120.000000             320000.000000   \n",
       "\n",
       "       PAID_WAGE_PER_YEAR         order  \n",
       "count        3.000000e+04  30000.000000  \n",
       "mean         1.280650e+05  15045.833600  \n",
       "std          4.483994e+04   8677.158635  \n",
       "min          2.850000e+04      1.000000  \n",
       "25%          1.097620e+05   7531.750000  \n",
       "50%          1.200000e+05  15055.500000  \n",
       "75%          1.350000e+05  22561.250000  \n",
       "max          2.500000e+06  30063.000000  "
      ]
     },
     "execution_count": 34,
     "metadata": {},
     "output_type": "execute_result"
    }
   ],
   "source": [
    "df = df.drop(['CASE_NUMBER', 'CASE_STATUS', 'CASE_RECEIVED_DATE', 'DECISION_DATE', 'WORK_POSTAL_CODE'], axis = 1)\n",
    "df.describe()"
   ]
  },
  {
   "cell_type": "code",
   "execution_count": 38,
   "id": "44cb8abd",
   "metadata": {},
   "outputs": [
    {
     "name": "stdout",
     "output_type": "stream",
     "text": [
      "EMPLOYER_NAME                         0\n",
      "PREVAILING_WAGE_SUBMITTED             0\n",
      "PREVAILING_WAGE_SUBMITTED_UNIT        0\n",
      "PAID_WAGE_SUBMITTED                   0\n",
      "PAID_WAGE_SUBMITTED_UNIT              0\n",
      "JOB_TITLE                             0\n",
      "WORK_CITY                             1\n",
      "EDUCATION_LEVEL_REQUIRED          25764\n",
      "COLLEGE_MAJOR_REQUIRED            25781\n",
      "EXPERIENCE_REQUIRED_Y_N           25764\n",
      "EXPERIENCE_REQUIRED_NUM_MONTHS        0\n",
      "COUNTRY_OF_CITIZENSHIP            25764\n",
      "PREVAILING_WAGE_SOC_CODE              0\n",
      "PREVAILING_WAGE_SOC_TITLE             0\n",
      "WORK_STATE                            0\n",
      "FULL_TIME_POSITION_Y_N             4236\n",
      "VISA_CLASS                            0\n",
      "PREVAILING_WAGE_PER_YEAR             68\n",
      "PAID_WAGE_PER_YEAR                    0\n",
      "JOB_TITLE_SUBGROUP                    0\n",
      "order                                 0\n",
      "dtype: int64\n"
     ]
    }
   ],
   "source": [
    "null_values = df.isnull().sum()\n",
    "#df = df.dropna(inplace=True)\n",
    "print(null_values)"
   ]
  },
  {
   "cell_type": "markdown",
   "id": "826814fd",
   "metadata": {},
   "source": [
    "# Data Visualization"
   ]
  },
  {
   "cell_type": "code",
   "execution_count": 42,
   "id": "d90b7cb9",
   "metadata": {},
   "outputs": [
    {
     "data": {
      "text/plain": [
       "<Axes: xlabel='EXPERIENCE_REQUIRED_NUM_MONTHS', ylabel='count'>"
      ]
     },
     "execution_count": 42,
     "metadata": {},
     "output_type": "execute_result"
    },
    {
     "ename": "ValueError",
     "evalue": "Image size of 575x91392 pixels is too large. It must be less than 2^16 in each direction.",
     "output_type": "error",
     "traceback": [
      "\u001b[1;31m---------------------------------------------------------------------------\u001b[0m",
      "\u001b[1;31mValueError\u001b[0m                                Traceback (most recent call last)",
      "File \u001b[1;32mC:\\ProgramData\\anaconda3\\lib\\site-packages\\IPython\\core\\formatters.py:338\u001b[0m, in \u001b[0;36mBaseFormatter.__call__\u001b[1;34m(self, obj)\u001b[0m\n\u001b[0;32m    336\u001b[0m     \u001b[38;5;28;01mpass\u001b[39;00m\n\u001b[0;32m    337\u001b[0m \u001b[38;5;28;01melse\u001b[39;00m:\n\u001b[1;32m--> 338\u001b[0m     \u001b[38;5;28;01mreturn\u001b[39;00m \u001b[43mprinter\u001b[49m\u001b[43m(\u001b[49m\u001b[43mobj\u001b[49m\u001b[43m)\u001b[49m\n\u001b[0;32m    339\u001b[0m \u001b[38;5;66;03m# Finally look for special method names\u001b[39;00m\n\u001b[0;32m    340\u001b[0m method \u001b[38;5;241m=\u001b[39m get_real_method(obj, \u001b[38;5;28mself\u001b[39m\u001b[38;5;241m.\u001b[39mprint_method)\n",
      "File \u001b[1;32mC:\\ProgramData\\anaconda3\\lib\\site-packages\\IPython\\core\\pylabtools.py:152\u001b[0m, in \u001b[0;36mprint_figure\u001b[1;34m(fig, fmt, bbox_inches, base64, **kwargs)\u001b[0m\n\u001b[0;32m    149\u001b[0m     \u001b[38;5;28;01mfrom\u001b[39;00m \u001b[38;5;21;01mmatplotlib\u001b[39;00m\u001b[38;5;21;01m.\u001b[39;00m\u001b[38;5;21;01mbackend_bases\u001b[39;00m \u001b[38;5;28;01mimport\u001b[39;00m FigureCanvasBase\n\u001b[0;32m    150\u001b[0m     FigureCanvasBase(fig)\n\u001b[1;32m--> 152\u001b[0m fig\u001b[38;5;241m.\u001b[39mcanvas\u001b[38;5;241m.\u001b[39mprint_figure(bytes_io, \u001b[38;5;241m*\u001b[39m\u001b[38;5;241m*\u001b[39mkw)\n\u001b[0;32m    153\u001b[0m data \u001b[38;5;241m=\u001b[39m bytes_io\u001b[38;5;241m.\u001b[39mgetvalue()\n\u001b[0;32m    154\u001b[0m \u001b[38;5;28;01mif\u001b[39;00m fmt \u001b[38;5;241m==\u001b[39m \u001b[38;5;124m'\u001b[39m\u001b[38;5;124msvg\u001b[39m\u001b[38;5;124m'\u001b[39m:\n",
      "File \u001b[1;32mC:\\ProgramData\\anaconda3\\lib\\site-packages\\matplotlib\\backend_bases.py:2362\u001b[0m, in \u001b[0;36mFigureCanvasBase.print_figure\u001b[1;34m(self, filename, dpi, facecolor, edgecolor, orientation, format, bbox_inches, pad_inches, bbox_extra_artists, backend, **kwargs)\u001b[0m\n\u001b[0;32m   2358\u001b[0m \u001b[38;5;28;01mtry\u001b[39;00m:\n\u001b[0;32m   2359\u001b[0m     \u001b[38;5;66;03m# _get_renderer may change the figure dpi (as vector formats\u001b[39;00m\n\u001b[0;32m   2360\u001b[0m     \u001b[38;5;66;03m# force the figure dpi to 72), so we need to set it again here.\u001b[39;00m\n\u001b[0;32m   2361\u001b[0m     \u001b[38;5;28;01mwith\u001b[39;00m cbook\u001b[38;5;241m.\u001b[39m_setattr_cm(\u001b[38;5;28mself\u001b[39m\u001b[38;5;241m.\u001b[39mfigure, dpi\u001b[38;5;241m=\u001b[39mdpi):\n\u001b[1;32m-> 2362\u001b[0m         result \u001b[38;5;241m=\u001b[39m print_method(\n\u001b[0;32m   2363\u001b[0m             filename,\n\u001b[0;32m   2364\u001b[0m             facecolor\u001b[38;5;241m=\u001b[39mfacecolor,\n\u001b[0;32m   2365\u001b[0m             edgecolor\u001b[38;5;241m=\u001b[39medgecolor,\n\u001b[0;32m   2366\u001b[0m             orientation\u001b[38;5;241m=\u001b[39morientation,\n\u001b[0;32m   2367\u001b[0m             bbox_inches_restore\u001b[38;5;241m=\u001b[39m_bbox_inches_restore,\n\u001b[0;32m   2368\u001b[0m             \u001b[38;5;241m*\u001b[39m\u001b[38;5;241m*\u001b[39mkwargs)\n\u001b[0;32m   2369\u001b[0m \u001b[38;5;28;01mfinally\u001b[39;00m:\n\u001b[0;32m   2370\u001b[0m     \u001b[38;5;28;01mif\u001b[39;00m bbox_inches \u001b[38;5;129;01mand\u001b[39;00m restore_bbox:\n",
      "File \u001b[1;32mC:\\ProgramData\\anaconda3\\lib\\site-packages\\matplotlib\\backend_bases.py:2228\u001b[0m, in \u001b[0;36mFigureCanvasBase._switch_canvas_and_return_print_method.<locals>.<lambda>\u001b[1;34m(*args, **kwargs)\u001b[0m\n\u001b[0;32m   2224\u001b[0m     optional_kws \u001b[38;5;241m=\u001b[39m {  \u001b[38;5;66;03m# Passed by print_figure for other renderers.\u001b[39;00m\n\u001b[0;32m   2225\u001b[0m         \u001b[38;5;124m\"\u001b[39m\u001b[38;5;124mdpi\u001b[39m\u001b[38;5;124m\"\u001b[39m, \u001b[38;5;124m\"\u001b[39m\u001b[38;5;124mfacecolor\u001b[39m\u001b[38;5;124m\"\u001b[39m, \u001b[38;5;124m\"\u001b[39m\u001b[38;5;124medgecolor\u001b[39m\u001b[38;5;124m\"\u001b[39m, \u001b[38;5;124m\"\u001b[39m\u001b[38;5;124morientation\u001b[39m\u001b[38;5;124m\"\u001b[39m,\n\u001b[0;32m   2226\u001b[0m         \u001b[38;5;124m\"\u001b[39m\u001b[38;5;124mbbox_inches_restore\u001b[39m\u001b[38;5;124m\"\u001b[39m}\n\u001b[0;32m   2227\u001b[0m     skip \u001b[38;5;241m=\u001b[39m optional_kws \u001b[38;5;241m-\u001b[39m {\u001b[38;5;241m*\u001b[39minspect\u001b[38;5;241m.\u001b[39msignature(meth)\u001b[38;5;241m.\u001b[39mparameters}\n\u001b[1;32m-> 2228\u001b[0m     print_method \u001b[38;5;241m=\u001b[39m functools\u001b[38;5;241m.\u001b[39mwraps(meth)(\u001b[38;5;28;01mlambda\u001b[39;00m \u001b[38;5;241m*\u001b[39margs, \u001b[38;5;241m*\u001b[39m\u001b[38;5;241m*\u001b[39mkwargs: meth(\n\u001b[0;32m   2229\u001b[0m         \u001b[38;5;241m*\u001b[39margs, \u001b[38;5;241m*\u001b[39m\u001b[38;5;241m*\u001b[39m{k: v \u001b[38;5;28;01mfor\u001b[39;00m k, v \u001b[38;5;129;01min\u001b[39;00m kwargs\u001b[38;5;241m.\u001b[39mitems() \u001b[38;5;28;01mif\u001b[39;00m k \u001b[38;5;129;01mnot\u001b[39;00m \u001b[38;5;129;01min\u001b[39;00m skip}))\n\u001b[0;32m   2230\u001b[0m \u001b[38;5;28;01melse\u001b[39;00m:  \u001b[38;5;66;03m# Let third-parties do as they see fit.\u001b[39;00m\n\u001b[0;32m   2231\u001b[0m     print_method \u001b[38;5;241m=\u001b[39m meth\n",
      "File \u001b[1;32mC:\\ProgramData\\anaconda3\\lib\\site-packages\\matplotlib\\backends\\backend_agg.py:509\u001b[0m, in \u001b[0;36mFigureCanvasAgg.print_png\u001b[1;34m(self, filename_or_obj, metadata, pil_kwargs)\u001b[0m\n\u001b[0;32m    462\u001b[0m \u001b[38;5;28;01mdef\u001b[39;00m \u001b[38;5;21mprint_png\u001b[39m(\u001b[38;5;28mself\u001b[39m, filename_or_obj, \u001b[38;5;241m*\u001b[39m, metadata\u001b[38;5;241m=\u001b[39m\u001b[38;5;28;01mNone\u001b[39;00m, pil_kwargs\u001b[38;5;241m=\u001b[39m\u001b[38;5;28;01mNone\u001b[39;00m):\n\u001b[0;32m    463\u001b[0m     \u001b[38;5;124;03m\"\"\"\u001b[39;00m\n\u001b[0;32m    464\u001b[0m \u001b[38;5;124;03m    Write the figure to a PNG file.\u001b[39;00m\n\u001b[0;32m    465\u001b[0m \n\u001b[1;32m   (...)\u001b[0m\n\u001b[0;32m    507\u001b[0m \u001b[38;5;124;03m        *metadata*, including the default 'Software' key.\u001b[39;00m\n\u001b[0;32m    508\u001b[0m \u001b[38;5;124;03m    \"\"\"\u001b[39;00m\n\u001b[1;32m--> 509\u001b[0m     \u001b[38;5;28;43mself\u001b[39;49m\u001b[38;5;241;43m.\u001b[39;49m\u001b[43m_print_pil\u001b[49m\u001b[43m(\u001b[49m\u001b[43mfilename_or_obj\u001b[49m\u001b[43m,\u001b[49m\u001b[43m \u001b[49m\u001b[38;5;124;43m\"\u001b[39;49m\u001b[38;5;124;43mpng\u001b[39;49m\u001b[38;5;124;43m\"\u001b[39;49m\u001b[43m,\u001b[49m\u001b[43m \u001b[49m\u001b[43mpil_kwargs\u001b[49m\u001b[43m,\u001b[49m\u001b[43m \u001b[49m\u001b[43mmetadata\u001b[49m\u001b[43m)\u001b[49m\n",
      "File \u001b[1;32mC:\\ProgramData\\anaconda3\\lib\\site-packages\\matplotlib\\backends\\backend_agg.py:457\u001b[0m, in \u001b[0;36mFigureCanvasAgg._print_pil\u001b[1;34m(self, filename_or_obj, fmt, pil_kwargs, metadata)\u001b[0m\n\u001b[0;32m    452\u001b[0m \u001b[38;5;28;01mdef\u001b[39;00m \u001b[38;5;21m_print_pil\u001b[39m(\u001b[38;5;28mself\u001b[39m, filename_or_obj, fmt, pil_kwargs, metadata\u001b[38;5;241m=\u001b[39m\u001b[38;5;28;01mNone\u001b[39;00m):\n\u001b[0;32m    453\u001b[0m     \u001b[38;5;124;03m\"\"\"\u001b[39;00m\n\u001b[0;32m    454\u001b[0m \u001b[38;5;124;03m    Draw the canvas, then save it using `.image.imsave` (to which\u001b[39;00m\n\u001b[0;32m    455\u001b[0m \u001b[38;5;124;03m    *pil_kwargs* and *metadata* are forwarded).\u001b[39;00m\n\u001b[0;32m    456\u001b[0m \u001b[38;5;124;03m    \"\"\"\u001b[39;00m\n\u001b[1;32m--> 457\u001b[0m     \u001b[43mFigureCanvasAgg\u001b[49m\u001b[38;5;241;43m.\u001b[39;49m\u001b[43mdraw\u001b[49m\u001b[43m(\u001b[49m\u001b[38;5;28;43mself\u001b[39;49m\u001b[43m)\u001b[49m\n\u001b[0;32m    458\u001b[0m     mpl\u001b[38;5;241m.\u001b[39mimage\u001b[38;5;241m.\u001b[39mimsave(\n\u001b[0;32m    459\u001b[0m         filename_or_obj, \u001b[38;5;28mself\u001b[39m\u001b[38;5;241m.\u001b[39mbuffer_rgba(), \u001b[38;5;28mformat\u001b[39m\u001b[38;5;241m=\u001b[39mfmt, origin\u001b[38;5;241m=\u001b[39m\u001b[38;5;124m\"\u001b[39m\u001b[38;5;124mupper\u001b[39m\u001b[38;5;124m\"\u001b[39m,\n\u001b[0;32m    460\u001b[0m         dpi\u001b[38;5;241m=\u001b[39m\u001b[38;5;28mself\u001b[39m\u001b[38;5;241m.\u001b[39mfigure\u001b[38;5;241m.\u001b[39mdpi, metadata\u001b[38;5;241m=\u001b[39mmetadata, pil_kwargs\u001b[38;5;241m=\u001b[39mpil_kwargs)\n",
      "File \u001b[1;32mC:\\ProgramData\\anaconda3\\lib\\site-packages\\matplotlib\\backends\\backend_agg.py:394\u001b[0m, in \u001b[0;36mFigureCanvasAgg.draw\u001b[1;34m(self)\u001b[0m\n\u001b[0;32m    392\u001b[0m \u001b[38;5;28;01mdef\u001b[39;00m \u001b[38;5;21mdraw\u001b[39m(\u001b[38;5;28mself\u001b[39m):\n\u001b[0;32m    393\u001b[0m     \u001b[38;5;66;03m# docstring inherited\u001b[39;00m\n\u001b[1;32m--> 394\u001b[0m     \u001b[38;5;28mself\u001b[39m\u001b[38;5;241m.\u001b[39mrenderer \u001b[38;5;241m=\u001b[39m \u001b[38;5;28;43mself\u001b[39;49m\u001b[38;5;241;43m.\u001b[39;49m\u001b[43mget_renderer\u001b[49m\u001b[43m(\u001b[49m\u001b[43m)\u001b[49m\n\u001b[0;32m    395\u001b[0m     \u001b[38;5;28mself\u001b[39m\u001b[38;5;241m.\u001b[39mrenderer\u001b[38;5;241m.\u001b[39mclear()\n\u001b[0;32m    396\u001b[0m     \u001b[38;5;66;03m# Acquire a lock on the shared font cache.\u001b[39;00m\n",
      "File \u001b[1;32mC:\\ProgramData\\anaconda3\\lib\\site-packages\\matplotlib\\_api\\deprecation.py:384\u001b[0m, in \u001b[0;36mdelete_parameter.<locals>.wrapper\u001b[1;34m(*inner_args, **inner_kwargs)\u001b[0m\n\u001b[0;32m    379\u001b[0m \u001b[38;5;129m@functools\u001b[39m\u001b[38;5;241m.\u001b[39mwraps(func)\n\u001b[0;32m    380\u001b[0m \u001b[38;5;28;01mdef\u001b[39;00m \u001b[38;5;21mwrapper\u001b[39m(\u001b[38;5;241m*\u001b[39minner_args, \u001b[38;5;241m*\u001b[39m\u001b[38;5;241m*\u001b[39minner_kwargs):\n\u001b[0;32m    381\u001b[0m     \u001b[38;5;28;01mif\u001b[39;00m \u001b[38;5;28mlen\u001b[39m(inner_args) \u001b[38;5;241m<\u001b[39m\u001b[38;5;241m=\u001b[39m name_idx \u001b[38;5;129;01mand\u001b[39;00m name \u001b[38;5;129;01mnot\u001b[39;00m \u001b[38;5;129;01min\u001b[39;00m inner_kwargs:\n\u001b[0;32m    382\u001b[0m         \u001b[38;5;66;03m# Early return in the simple, non-deprecated case (much faster than\u001b[39;00m\n\u001b[0;32m    383\u001b[0m         \u001b[38;5;66;03m# calling bind()).\u001b[39;00m\n\u001b[1;32m--> 384\u001b[0m         \u001b[38;5;28;01mreturn\u001b[39;00m func(\u001b[38;5;241m*\u001b[39minner_args, \u001b[38;5;241m*\u001b[39m\u001b[38;5;241m*\u001b[39minner_kwargs)\n\u001b[0;32m    385\u001b[0m     arguments \u001b[38;5;241m=\u001b[39m signature\u001b[38;5;241m.\u001b[39mbind(\u001b[38;5;241m*\u001b[39minner_args, \u001b[38;5;241m*\u001b[39m\u001b[38;5;241m*\u001b[39minner_kwargs)\u001b[38;5;241m.\u001b[39marguments\n\u001b[0;32m    386\u001b[0m     \u001b[38;5;28;01mif\u001b[39;00m is_varargs \u001b[38;5;129;01mand\u001b[39;00m arguments\u001b[38;5;241m.\u001b[39mget(name):\n",
      "File \u001b[1;32mC:\\ProgramData\\anaconda3\\lib\\site-packages\\matplotlib\\backends\\backend_agg.py:411\u001b[0m, in \u001b[0;36mFigureCanvasAgg.get_renderer\u001b[1;34m(self, cleared)\u001b[0m\n\u001b[0;32m    409\u001b[0m reuse_renderer \u001b[38;5;241m=\u001b[39m (\u001b[38;5;28mself\u001b[39m\u001b[38;5;241m.\u001b[39m_lastKey \u001b[38;5;241m==\u001b[39m key)\n\u001b[0;32m    410\u001b[0m \u001b[38;5;28;01mif\u001b[39;00m \u001b[38;5;129;01mnot\u001b[39;00m reuse_renderer:\n\u001b[1;32m--> 411\u001b[0m     \u001b[38;5;28mself\u001b[39m\u001b[38;5;241m.\u001b[39mrenderer \u001b[38;5;241m=\u001b[39m \u001b[43mRendererAgg\u001b[49m\u001b[43m(\u001b[49m\u001b[43mw\u001b[49m\u001b[43m,\u001b[49m\u001b[43m \u001b[49m\u001b[43mh\u001b[49m\u001b[43m,\u001b[49m\u001b[43m \u001b[49m\u001b[38;5;28;43mself\u001b[39;49m\u001b[38;5;241;43m.\u001b[39;49m\u001b[43mfigure\u001b[49m\u001b[38;5;241;43m.\u001b[39;49m\u001b[43mdpi\u001b[49m\u001b[43m)\u001b[49m\n\u001b[0;32m    412\u001b[0m     \u001b[38;5;28mself\u001b[39m\u001b[38;5;241m.\u001b[39m_lastKey \u001b[38;5;241m=\u001b[39m key\n\u001b[0;32m    413\u001b[0m \u001b[38;5;28;01melif\u001b[39;00m cleared:\n",
      "File \u001b[1;32mC:\\ProgramData\\anaconda3\\lib\\site-packages\\matplotlib\\backends\\backend_agg.py:84\u001b[0m, in \u001b[0;36mRendererAgg.__init__\u001b[1;34m(self, width, height, dpi)\u001b[0m\n\u001b[0;32m     82\u001b[0m \u001b[38;5;28mself\u001b[39m\u001b[38;5;241m.\u001b[39mwidth \u001b[38;5;241m=\u001b[39m width\n\u001b[0;32m     83\u001b[0m \u001b[38;5;28mself\u001b[39m\u001b[38;5;241m.\u001b[39mheight \u001b[38;5;241m=\u001b[39m height\n\u001b[1;32m---> 84\u001b[0m \u001b[38;5;28mself\u001b[39m\u001b[38;5;241m.\u001b[39m_renderer \u001b[38;5;241m=\u001b[39m \u001b[43m_RendererAgg\u001b[49m\u001b[43m(\u001b[49m\u001b[38;5;28;43mint\u001b[39;49m\u001b[43m(\u001b[49m\u001b[43mwidth\u001b[49m\u001b[43m)\u001b[49m\u001b[43m,\u001b[49m\u001b[43m \u001b[49m\u001b[38;5;28;43mint\u001b[39;49m\u001b[43m(\u001b[49m\u001b[43mheight\u001b[49m\u001b[43m)\u001b[49m\u001b[43m,\u001b[49m\u001b[43m \u001b[49m\u001b[43mdpi\u001b[49m\u001b[43m)\u001b[49m\n\u001b[0;32m     85\u001b[0m \u001b[38;5;28mself\u001b[39m\u001b[38;5;241m.\u001b[39m_filter_renderers \u001b[38;5;241m=\u001b[39m []\n\u001b[0;32m     87\u001b[0m \u001b[38;5;28mself\u001b[39m\u001b[38;5;241m.\u001b[39m_update_methods()\n",
      "\u001b[1;31mValueError\u001b[0m: Image size of 575x91392 pixels is too large. It must be less than 2^16 in each direction."
     ]
    },
    {
     "data": {
      "text/plain": [
       "<Figure size 640x480 with 1 Axes>"
      ]
     },
     "metadata": {},
     "output_type": "display_data"
    }
   ],
   "source": [
    "sns.countplot(x=df[\"EXPERIENCE_REQUIRED_NUM_MONTHS\"],hue=df[\"PAID_WAGE_PER_YEAR\"])"
   ]
  },
  {
   "cell_type": "markdown",
   "id": "f8fdb6e4",
   "metadata": {},
   "source": [
    "# Data Cleaning"
   ]
  },
  {
   "cell_type": "markdown",
   "id": "4818b87d",
   "metadata": {},
   "source": [
    "# Data Selection"
   ]
  }
 ],
 "metadata": {
  "kernelspec": {
   "display_name": "Python 3 (ipykernel)",
   "language": "python",
   "name": "python3"
  },
  "language_info": {
   "codemirror_mode": {
    "name": "ipython",
    "version": 3
   },
   "file_extension": ".py",
   "mimetype": "text/x-python",
   "name": "python",
   "nbconvert_exporter": "python",
   "pygments_lexer": "ipython3",
   "version": "3.10.9"
  }
 },
 "nbformat": 4,
 "nbformat_minor": 5
}
